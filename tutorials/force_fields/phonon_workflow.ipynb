{
 "cells": [
  {
   "cell_type": "code",
   "execution_count": null,
   "id": "0",
   "metadata": {},
   "outputs": [],
   "source": [
    "from pathlib import Path\n",
    "\n",
    "TEST_ROOT = Path().cwd().parent.parent / \"tests\"\n",
    "TEST_DIR = TEST_ROOT / \"test_data\""
   ]
  },
  {
   "cell_type": "code",
   "execution_count": null,
   "id": "1",
   "metadata": {},
   "outputs": [],
   "source": [
    "from pymatgen.core.structure import Structure\n",
    "\n",
    "si_structure = Structure.from_file(TEST_DIR / \"structures\" / \"Si.cif\")"
   ]
  },
  {
   "cell_type": "code",
   "execution_count": null,
   "id": "2",
   "metadata": {},
   "outputs": [],
   "source": [
    "from jobflow import run_locally\n",
    "\n",
    "from atomate2.forcefields.flows.phonons import PhononMaker\n",
    "\n",
    "flow = PhononMaker(\n",
    "    min_length=3.0,\n",
    "    born_maker=None,\n",
    "    use_symmetrized_structure=\"conventional\",\n",
    "    create_thermal_displacements=False,\n",
    "    store_force_constants=False,\n",
    "    prefer_90_degrees=False,\n",
    "    generate_frequencies_eigenvectors_kwargs={\"tstep\": 100},\n",
    ").make(si_structure)\n",
    "run_locally(flow, create_folders=True, raise_immediately=True)"
   ]
  },
  {
   "cell_type": "markdown",
   "id": "3",
   "metadata": {},
   "source": [
    "One can switch to a different force field as well!"
   ]
  },
  {
   "cell_type": "code",
   "execution_count": null,
   "id": "4",
   "metadata": {},
   "outputs": [],
   "source": [
    "from atomate2.forcefields.jobs import ForceFieldRelaxMaker, ForceFieldStaticMaker\n",
    "\n",
    "flow = PhononMaker(\n",
    "    min_length=3.0,\n",
    "    use_symmetrized_structure=\"conventional\",\n",
    "    create_thermal_displacements=False,\n",
    "    store_force_constants=False,\n",
    "    prefer_90_degrees=False,\n",
    "    generate_frequencies_eigenvectors_kwargs={\"tstep\": 100},\n",
    "    static_energy_maker=ForceFieldStaticMaker(force_field_name=\"MACE\"),\n",
    "    bulk_relax_maker=ForceFieldRelaxMaker(force_field_name=\"MACE\"),\n",
    "    phonon_displacement_maker=ForceFieldStaticMaker(force_field_name=\"MACE\"),\n",
    ").make(si_structure)\n",
    "\n",
    "run_locally(flow, create_folders=True, raise_immediately=True)"
   ]
  }
 ],
 "metadata": {
  "language_info": {
   "codemirror_mode": {
    "name": "ipython",
    "version": 2
   },
   "file_extension": ".py",
   "mimetype": "text/x-python",
   "name": "python",
   "nbconvert_exporter": "python",
   "pygments_lexer": "ipython2",
   "version": "2.7.6"
  }
 },
 "nbformat": 4,
 "nbformat_minor": 5
}
