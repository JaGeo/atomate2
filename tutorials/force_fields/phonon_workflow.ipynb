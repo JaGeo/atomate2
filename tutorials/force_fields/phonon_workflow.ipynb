{
 "cells": [
  {
   "cell_type": "code",
   "execution_count": null,
   "id": "initial_id",
   "metadata": {
    "collapsed": true
   },
   "outputs": [],
   "source": [
    "from pathlib import Path\n",
    "TEST_ROOT = Path(__file__).parent.parent / \"tests\"\n",
    "TEST_DIR = TEST_ROOT / \"test_data\""
   ]
  },
  {
   "metadata": {},
   "cell_type": "code",
   "outputs": [],
   "execution_count": null,
   "source": [
    "from pymatgen.core.structure import Structure\n",
    "si_structure = Structure.from_file(TEST_DIR / \"structures\" / \"Si.cif\")"
   ],
   "id": "59d1925b6558c9bb"
  },
  {
   "metadata": {},
   "cell_type": "code",
   "outputs": [],
   "execution_count": null,
   "source": [
    "from atomate2.forcefields.flows.phonons import PhononMaker\n",
    "from jobflow import run_locally\n",
    "flow=PhononMaker(\n",
    "        min_length=3.0,\n",
    "        born_maker=None,\n",
    "        use_symmetrized_structure=\"conventional\",\n",
    "        create_thermal_displacements=False,\n",
    "        store_force_constants=False,\n",
    "        prefer_90_degrees=False,\n",
    "        generate_frequencies_eigenvectors_kwargs={\"tstep\": 100},\n",
    "    ).make(si_structure)\n",
    "run_locally(flow, store=job_store,create_folders=True, raise_immediately=True)"
   ],
   "id": "83e78705d60d7c9b"
  },
  {
   "metadata": {},
   "cell_type": "code",
   "outputs": [],
   "execution_count": null,
   "source": "",
   "id": "bf10b23db3655278"
  }
 ],
 "metadata": {
  "kernelspec": {
   "display_name": "Python 3",
   "language": "python",
   "name": "python3"
  },
  "language_info": {
   "codemirror_mode": {
    "name": "ipython",
    "version": 2
   },
   "file_extension": ".py",
   "mimetype": "text/x-python",
   "name": "python",
   "nbconvert_exporter": "python",
   "pygments_lexer": "ipython2",
   "version": "2.7.6"
  }
 },
 "nbformat": 4,
 "nbformat_minor": 5
}
