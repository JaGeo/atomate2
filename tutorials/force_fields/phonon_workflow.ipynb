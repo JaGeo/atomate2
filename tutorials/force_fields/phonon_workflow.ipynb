{
 "cells": [
  {
   "cell_type": "code",
   "id": "initial_id",
   "metadata": {
    "collapsed": true,
    "ExecuteTime": {
     "end_time": "2025-02-07T22:56:35.139732Z",
     "start_time": "2025-02-07T22:56:35.135377Z"
    }
   },
   "source": [
    "from pathlib import Path\n",
    "TEST_ROOT = Path().cwd().parent.parent / \"tests\"\n",
    "TEST_DIR = TEST_ROOT / \"test_data\""
   ],
   "outputs": [],
   "execution_count": 1
  },
  {
   "metadata": {
    "ExecuteTime": {
     "end_time": "2025-02-07T22:56:35.488163Z",
     "start_time": "2025-02-07T22:56:35.179940Z"
    }
   },
   "cell_type": "code",
   "source": [
    "from pymatgen.core.structure import Structure\n",
    "si_structure = Structure.from_file(TEST_DIR / \"structures\" / \"Si.cif\")"
   ],
   "id": "59d1925b6558c9bb",
   "outputs": [],
   "execution_count": 2
  },
  {
   "metadata": {
    "ExecuteTime": {
     "end_time": "2025-02-07T22:56:45.266340Z",
     "start_time": "2025-02-07T22:56:35.600781Z"
    }
   },
   "cell_type": "code",
   "source": [
    "from atomate2.forcefields.flows.phonons import PhononMaker\n",
    "from jobflow import run_locally\n",
    "flow=PhononMaker(\n",
    "        min_length=3.0,\n",
    "        born_maker=None,\n",
    "        use_symmetrized_structure=\"conventional\",\n",
    "        create_thermal_displacements=False,\n",
    "        store_force_constants=False,\n",
    "        prefer_90_degrees=False,\n",
    "        generate_frequencies_eigenvectors_kwargs={\"tstep\": 100},\n",
    "    ).make(si_structure)\n",
    "run_locally(flow, create_folders=True, raise_immediately=True)"
   ],
   "id": "83e78705d60d7c9b",
   "outputs": [
    {
     "name": "stderr",
     "output_type": "stream",
     "text": [
      "/home/jgeorge/miniconda3/envs/2025_Update_atomate2_doc/lib/python3.11/site-packages/tqdm/auto.py:21: TqdmWarning: IProgress not found. Please update jupyter and ipywidgets. See https://ipywidgets.readthedocs.io/en/stable/user_install.html\n",
      "  from .autonotebook import tqdm as notebook_tqdm\n"
     ]
    },
    {
     "name": "stdout",
     "output_type": "stream",
     "text": [
      "2025-02-07 23:56:44,550 INFO Started executing jobs locally\n",
      "2025-02-07 23:56:44,562 INFO Starting job - structure_to_conventional (bf8de028-e1b9-4df1-befa-ac536c266447)\n",
      "2025-02-07 23:56:44,583 INFO Finished job - structure_to_conventional (bf8de028-e1b9-4df1-befa-ac536c266447)\n",
      "2025-02-07 23:56:44,587 INFO Starting job - Force field relax (d5c19be4-c96e-4f98-8656-71058365b83c)\n"
     ]
    },
    {
     "ename": "ModuleNotFoundError",
     "evalue": "No module named 'torch'",
     "output_type": "error",
     "traceback": [
      "\u001B[0;31m---------------------------------------------------------------------------\u001B[0m",
      "\u001B[0;31mModuleNotFoundError\u001B[0m                       Traceback (most recent call last)",
      "Cell \u001B[0;32mIn[3], line 12\u001B[0m\n\u001B[1;32m      2\u001B[0m \u001B[38;5;28;01mfrom\u001B[39;00m \u001B[38;5;21;01mjobflow\u001B[39;00m \u001B[38;5;28;01mimport\u001B[39;00m run_locally\n\u001B[1;32m      3\u001B[0m flow\u001B[38;5;241m=\u001B[39mPhononMaker(\n\u001B[1;32m      4\u001B[0m         min_length\u001B[38;5;241m=\u001B[39m\u001B[38;5;241m3.0\u001B[39m,\n\u001B[1;32m      5\u001B[0m         born_maker\u001B[38;5;241m=\u001B[39m\u001B[38;5;28;01mNone\u001B[39;00m,\n\u001B[0;32m   (...)\u001B[0m\n\u001B[1;32m     10\u001B[0m         generate_frequencies_eigenvectors_kwargs\u001B[38;5;241m=\u001B[39m{\u001B[38;5;124m\"\u001B[39m\u001B[38;5;124mtstep\u001B[39m\u001B[38;5;124m\"\u001B[39m: \u001B[38;5;241m100\u001B[39m},\n\u001B[1;32m     11\u001B[0m     )\u001B[38;5;241m.\u001B[39mmake(si_structure)\n\u001B[0;32m---> 12\u001B[0m run_locally(flow, create_folders\u001B[38;5;241m=\u001B[39m\u001B[38;5;28;01mTrue\u001B[39;00m, raise_immediately\u001B[38;5;241m=\u001B[39m\u001B[38;5;28;01mTrue\u001B[39;00m)\n",
      "File \u001B[0;32m~/miniconda3/envs/2025_Update_atomate2_doc/lib/python3.11/site-packages/jobflow/managers/local.py:180\u001B[0m, in \u001B[0;36mrun_locally\u001B[0;34m(flow, log, store, create_folders, root_dir, ensure_success, allow_external_references, raise_immediately)\u001B[0m\n\u001B[1;32m    177\u001B[0m     \u001B[38;5;28;01mreturn\u001B[39;00m \u001B[38;5;129;01mnot\u001B[39;00m encountered_bad_response\n\u001B[1;32m    179\u001B[0m logger\u001B[38;5;241m.\u001B[39minfo(\u001B[38;5;124m\"\u001B[39m\u001B[38;5;124mStarted executing jobs locally\u001B[39m\u001B[38;5;124m\"\u001B[39m)\n\u001B[0;32m--> 180\u001B[0m finished_successfully \u001B[38;5;241m=\u001B[39m _run(flow)\n\u001B[1;32m    181\u001B[0m logger\u001B[38;5;241m.\u001B[39minfo(\u001B[38;5;124m\"\u001B[39m\u001B[38;5;124mFinished executing jobs locally\u001B[39m\u001B[38;5;124m\"\u001B[39m)\n\u001B[1;32m    183\u001B[0m \u001B[38;5;28;01mif\u001B[39;00m ensure_success \u001B[38;5;129;01mand\u001B[39;00m \u001B[38;5;129;01mnot\u001B[39;00m finished_successfully:\n",
      "File \u001B[0;32m~/miniconda3/envs/2025_Update_atomate2_doc/lib/python3.11/site-packages/jobflow/managers/local.py:169\u001B[0m, in \u001B[0;36mrun_locally.<locals>._run\u001B[0;34m(root_flow)\u001B[0m\n\u001B[1;32m    167\u001B[0m job_dir \u001B[38;5;241m=\u001B[39m _get_job_dir()\n\u001B[1;32m    168\u001B[0m \u001B[38;5;28;01mwith\u001B[39;00m cd(job_dir):\n\u001B[0;32m--> 169\u001B[0m     response, jobflow_stopped \u001B[38;5;241m=\u001B[39m _run_job(job, parents)\n\u001B[1;32m    171\u001B[0m \u001B[38;5;28;01mif\u001B[39;00m response \u001B[38;5;129;01mis\u001B[39;00m \u001B[38;5;129;01mnot\u001B[39;00m \u001B[38;5;28;01mNone\u001B[39;00m:\n\u001B[1;32m    172\u001B[0m     response\u001B[38;5;241m.\u001B[39mjob_dir \u001B[38;5;241m=\u001B[39m job_dir\n",
      "File \u001B[0;32m~/miniconda3/envs/2025_Update_atomate2_doc/lib/python3.11/site-packages/jobflow/managers/local.py:114\u001B[0m, in \u001B[0;36mrun_locally.<locals>._run_job\u001B[0;34m(job, parents)\u001B[0m\n\u001B[1;32m    111\u001B[0m     \u001B[38;5;28;01mreturn\u001B[39;00m \u001B[38;5;28;01mNone\u001B[39;00m, \u001B[38;5;28;01mFalse\u001B[39;00m\n\u001B[1;32m    113\u001B[0m \u001B[38;5;28;01mif\u001B[39;00m raise_immediately:\n\u001B[0;32m--> 114\u001B[0m     response \u001B[38;5;241m=\u001B[39m job\u001B[38;5;241m.\u001B[39mrun(store\u001B[38;5;241m=\u001B[39mstore)\n\u001B[1;32m    115\u001B[0m \u001B[38;5;28;01melse\u001B[39;00m:\n\u001B[1;32m    116\u001B[0m     \u001B[38;5;28;01mtry\u001B[39;00m:\n",
      "File \u001B[0;32m~/miniconda3/envs/2025_Update_atomate2_doc/lib/python3.11/site-packages/jobflow/core/job.py:604\u001B[0m, in \u001B[0;36mJob.run\u001B[0;34m(self, store, job_dir)\u001B[0m\n\u001B[1;32m    601\u001B[0m \u001B[38;5;28;01mif\u001B[39;00m bound \u001B[38;5;129;01mis\u001B[39;00m \u001B[38;5;129;01mnot\u001B[39;00m \u001B[38;5;28;01mNone\u001B[39;00m \u001B[38;5;129;01mand\u001B[39;00m \u001B[38;5;129;01mnot\u001B[39;00m \u001B[38;5;28misinstance\u001B[39m(bound, types\u001B[38;5;241m.\u001B[39mModuleType):\n\u001B[1;32m    602\u001B[0m     function \u001B[38;5;241m=\u001B[39m types\u001B[38;5;241m.\u001B[39mMethodType(function, bound)\n\u001B[0;32m--> 604\u001B[0m response \u001B[38;5;241m=\u001B[39m function(\u001B[38;5;241m*\u001B[39m\u001B[38;5;28mself\u001B[39m\u001B[38;5;241m.\u001B[39mfunction_args, \u001B[38;5;241m*\u001B[39m\u001B[38;5;241m*\u001B[39m\u001B[38;5;28mself\u001B[39m\u001B[38;5;241m.\u001B[39mfunction_kwargs)\n\u001B[1;32m    605\u001B[0m response \u001B[38;5;241m=\u001B[39m Response\u001B[38;5;241m.\u001B[39mfrom_job_returns(\n\u001B[1;32m    606\u001B[0m     response, \u001B[38;5;28mself\u001B[39m\u001B[38;5;241m.\u001B[39moutput_schema, job_dir\u001B[38;5;241m=\u001B[39mjob_dir\n\u001B[1;32m    607\u001B[0m )\n\u001B[1;32m    609\u001B[0m \u001B[38;5;28;01mif\u001B[39;00m response\u001B[38;5;241m.\u001B[39mreplace \u001B[38;5;129;01mis\u001B[39;00m \u001B[38;5;129;01mnot\u001B[39;00m \u001B[38;5;28;01mNone\u001B[39;00m:\n",
      "File \u001B[0;32m~/miniconda3/envs/2025_Update_atomate2_doc/lib/python3.11/site-packages/atomate2/forcefields/jobs.py:158\u001B[0m, in \u001B[0;36mForceFieldRelaxMaker.make\u001B[0;34m(self, structure, prev_dir)\u001B[0m\n\u001B[1;32m    143\u001B[0m \u001B[38;5;129m@forcefield_job\u001B[39m\n\u001B[1;32m    144\u001B[0m \u001B[38;5;28;01mdef\u001B[39;00m \u001B[38;5;21mmake\u001B[39m(\n\u001B[1;32m    145\u001B[0m     \u001B[38;5;28mself\u001B[39m, structure: Structure, prev_dir: \u001B[38;5;28mstr\u001B[39m \u001B[38;5;241m|\u001B[39m Path \u001B[38;5;241m|\u001B[39m \u001B[38;5;28;01mNone\u001B[39;00m \u001B[38;5;241m=\u001B[39m \u001B[38;5;28;01mNone\u001B[39;00m\n\u001B[1;32m    146\u001B[0m ) \u001B[38;5;241m-\u001B[39m\u001B[38;5;241m>\u001B[39m ForceFieldTaskDocument:\n\u001B[1;32m    147\u001B[0m \u001B[38;5;250m    \u001B[39m\u001B[38;5;124;03m\"\"\"\u001B[39;00m\n\u001B[1;32m    148\u001B[0m \u001B[38;5;124;03m    Perform a relaxation of a structure using a force field.\u001B[39;00m\n\u001B[1;32m    149\u001B[0m \n\u001B[0;32m   (...)\u001B[0m\n\u001B[1;32m    156\u001B[0m \u001B[38;5;124;03m            added to match the method signature of other makers.\u001B[39;00m\n\u001B[1;32m    157\u001B[0m \u001B[38;5;124;03m    \"\"\"\u001B[39;00m\n\u001B[0;32m--> 158\u001B[0m     \u001B[38;5;28;01mwith\u001B[39;00m revert_default_dtype():\n\u001B[1;32m    159\u001B[0m         ase_result \u001B[38;5;241m=\u001B[39m \u001B[38;5;28mself\u001B[39m\u001B[38;5;241m.\u001B[39mrun_ase(structure, prev_dir\u001B[38;5;241m=\u001B[39mprev_dir)\n\u001B[1;32m    161\u001B[0m     \u001B[38;5;28;01mif\u001B[39;00m \u001B[38;5;28mlen\u001B[39m(\u001B[38;5;28mself\u001B[39m\u001B[38;5;241m.\u001B[39mtask_document_kwargs) \u001B[38;5;241m>\u001B[39m \u001B[38;5;241m0\u001B[39m:\n",
      "File \u001B[0;32m~/miniconda3/envs/2025_Update_atomate2_doc/lib/python3.11/contextlib.py:137\u001B[0m, in \u001B[0;36m_GeneratorContextManager.__enter__\u001B[0;34m(self)\u001B[0m\n\u001B[1;32m    135\u001B[0m \u001B[38;5;28;01mdel\u001B[39;00m \u001B[38;5;28mself\u001B[39m\u001B[38;5;241m.\u001B[39margs, \u001B[38;5;28mself\u001B[39m\u001B[38;5;241m.\u001B[39mkwds, \u001B[38;5;28mself\u001B[39m\u001B[38;5;241m.\u001B[39mfunc\n\u001B[1;32m    136\u001B[0m \u001B[38;5;28;01mtry\u001B[39;00m:\n\u001B[0;32m--> 137\u001B[0m     \u001B[38;5;28;01mreturn\u001B[39;00m \u001B[38;5;28mnext\u001B[39m(\u001B[38;5;28mself\u001B[39m\u001B[38;5;241m.\u001B[39mgen)\n\u001B[1;32m    138\u001B[0m \u001B[38;5;28;01mexcept\u001B[39;00m \u001B[38;5;167;01mStopIteration\u001B[39;00m:\n\u001B[1;32m    139\u001B[0m     \u001B[38;5;28;01mraise\u001B[39;00m \u001B[38;5;167;01mRuntimeError\u001B[39;00m(\u001B[38;5;124m\"\u001B[39m\u001B[38;5;124mgenerator didn\u001B[39m\u001B[38;5;124m'\u001B[39m\u001B[38;5;124mt yield\u001B[39m\u001B[38;5;124m\"\u001B[39m) \u001B[38;5;28;01mfrom\u001B[39;00m \u001B[38;5;28;01mNone\u001B[39;00m\n",
      "File \u001B[0;32m~/miniconda3/envs/2025_Update_atomate2_doc/lib/python3.11/site-packages/atomate2/forcefields/utils.py:117\u001B[0m, in \u001B[0;36mrevert_default_dtype\u001B[0;34m()\u001B[0m\n\u001B[1;32m    108\u001B[0m \u001B[38;5;129m@contextmanager\u001B[39m\n\u001B[1;32m    109\u001B[0m \u001B[38;5;28;01mdef\u001B[39;00m \u001B[38;5;21mrevert_default_dtype\u001B[39m() \u001B[38;5;241m-\u001B[39m\u001B[38;5;241m>\u001B[39m Generator[\u001B[38;5;28;01mNone\u001B[39;00m, \u001B[38;5;28;01mNone\u001B[39;00m, \u001B[38;5;28;01mNone\u001B[39;00m]:\n\u001B[1;32m    110\u001B[0m \u001B[38;5;250m    \u001B[39m\u001B[38;5;124;03m\"\"\"Context manager for torch.default_dtype.\u001B[39;00m\n\u001B[1;32m    111\u001B[0m \n\u001B[1;32m    112\u001B[0m \u001B[38;5;124;03m    Reverts it to whatever torch.get_default_dtype() was when entering the context.\u001B[39;00m\n\u001B[0;32m   (...)\u001B[0m\n\u001B[1;32m    115\u001B[0m \u001B[38;5;124;03m    https://github.com/ACEsuit/mace/issues/328\u001B[39;00m\n\u001B[1;32m    116\u001B[0m \u001B[38;5;124;03m    \"\"\"\u001B[39;00m\n\u001B[0;32m--> 117\u001B[0m     \u001B[38;5;28;01mimport\u001B[39;00m \u001B[38;5;21;01mtorch\u001B[39;00m\n\u001B[1;32m    119\u001B[0m     orig \u001B[38;5;241m=\u001B[39m torch\u001B[38;5;241m.\u001B[39mget_default_dtype()\n\u001B[1;32m    120\u001B[0m     \u001B[38;5;28;01myield\u001B[39;00m\n",
      "\u001B[0;31mModuleNotFoundError\u001B[0m: No module named 'torch'"
     ]
    }
   ],
   "execution_count": 3
  },
  {
   "metadata": {},
   "cell_type": "markdown",
   "source": "One can switch to a different force field as well!",
   "id": "dc4717fc382f4bcc"
  },
  {
   "metadata": {},
   "cell_type": "code",
   "outputs": [],
   "execution_count": null,
   "source": [
    "from atomate2.forcefields.jobs import ForceFieldRelaxMaker, ForceFieldStaticMaker\n",
    "flow=PhononMaker(\n",
    "        min_length=3.0,\n",
    "        use_symmetrized_structure=\"conventional\",\n",
    "        create_thermal_displacements=False,\n",
    "        store_force_constants=False,\n",
    "        prefer_90_degrees=False,\n",
    "        generate_frequencies_eigenvectors_kwargs={\"tstep\": 100},\n",
    "        static_energy_maker=ForceFieldStaticMaker(force_field_name=\"MACE\"),\n",
    "        bulk_relax_maker=ForceFieldRelaxMaker(force_field_name=\"MACE\"),\n",
    "        phonon_displacement_maker=ForceFieldStaticMaker(force_field_name=\"MACE\")).make(si_structure)\n",
    "\n",
    "run_locally(flow, create_folders=True, raise_immediately=True)"
   ],
   "id": "1c49126ed2c57d30"
  }
 ],
 "metadata": {
  "kernelspec": {
   "display_name": "Python 3",
   "language": "python",
   "name": "python3"
  },
  "language_info": {
   "codemirror_mode": {
    "name": "ipython",
    "version": 2
   },
   "file_extension": ".py",
   "mimetype": "text/x-python",
   "name": "python",
   "nbconvert_exporter": "python",
   "pygments_lexer": "ipython2",
   "version": "2.7.6"
  }
 },
 "nbformat": 4,
 "nbformat_minor": 5
}
