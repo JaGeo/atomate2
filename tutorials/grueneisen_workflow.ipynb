{
 "cells": [
  {
   "cell_type": "markdown",
   "id": "0",
   "metadata": {},
   "source": [
    "This first part is only needed as we have to mock VASP here as we cannot run it directly in a jupyter notebook:"
   ]
  },
  {
   "cell_type": "code",
   "execution_count": null,
   "id": "1",
   "metadata": {
    "jupyter": {
     "is_executing": true
    }
   },
   "outputs": [],
   "source": [
    "from mock_vasp import TEST_DIR, mock_vasp\n",
    "\n",
    "ref_paths = {\n",
    "    \"tight relax 1\": \"Si_gruneisen_1/tight_relax_1\",\n",
    "    \"tight relax 2\": \"Si_gruneisen_1/tight_relax_2\",\n",
    "    \"tight relax 1 plus\": \"Si_gruneisen_1/tight_relax_plus\",\n",
    "    \"tight relax 2 plus\": \"Si_gruneisen_1/tight_relax_plus_2\",\n",
    "    \"tight relax 1 minus\": \"Si_gruneisen_1/tight_relax_minus\",\n",
    "    \"tight relax 2 minus\": \"Si_gruneisen_1/tight_relax_minus_2\",\n",
    "    \"phonon static 1/1 ground\": \"Si_gruneisen_1/phonon_ground\",\n",
    "    \"phonon static 1/1 plus\": \"Si_gruneisen_1/phonon_plus\",\n",
    "    \"phonon static 1/1 minus\": \"Si_gruneisen_1/phonon_minus\",\n",
    "}"
   ]
  },
  {
   "cell_type": "markdown",
   "id": "2",
   "metadata": {},
   "source": [
    "# Grüneisen Workflow Tutorial with VASP"
   ]
  },
  {
   "cell_type": "markdown",
   "id": "3",
   "metadata": {},
   "source": [
    "## Background\n",
    "The Grüneisen workflow is based on the implementation in Phonopy.\n",
    "\n",
    "If you want to read more about Phonopy, please read Togo’s paper: https://doi.org/10.7566/JPSJ.92.012001"
   ]
  },
  {
   "cell_type": "markdown",
   "id": "4",
   "metadata": {},
   "source": [
    "## Let's run the workflow\n",
    "Now, we load a structure and other important functions and classes for running the Grüneisen workflow."
   ]
  },
  {
   "cell_type": "code",
   "execution_count": null,
   "id": "5",
   "metadata": {},
   "outputs": [],
   "source": [
    "from jobflow import JobStore, run_locally\n",
    "from maggma.stores import MemoryStore\n",
    "from pymatgen.core import Structure\n",
    "\n",
    "from atomate2.vasp.flows.gruneisen import GruneisenMaker, PhononMaker\n",
    "\n",
    "job_store = JobStore(MemoryStore(), additional_stores={\"data\": MemoryStore()})\n",
    "si_structure = Structure.from_file(TEST_DIR / \"structures\" / \"Si_diamond.cif\")"
   ]
  },
  {
   "cell_type": "markdown",
   "id": "6",
   "metadata": {},
   "source": [
    "Then one can use the `GruneisenMaker` to generate a `Flow`."
   ]
  },
  {
   "cell_type": "code",
   "execution_count": null,
   "id": "7",
   "metadata": {},
   "outputs": [],
   "source": [
    "flow = GruneisenMaker(\n",
    "    symprec=1e-4,\n",
    "    phonon_maker=PhononMaker(\n",
    "        create_thermal_displacements=False,\n",
    "        store_force_constants=False,\n",
    "        prefer_90_degrees=False,\n",
    "        min_length=10,\n",
    "        born_maker=None,\n",
    "        bulk_relax_maker=None,\n",
    "        static_energy_maker=None,\n",
    "    ),\n",
    ").make(structure=si_structure)"
   ]
  },
  {
   "cell_type": "markdown",
   "id": "8",
   "metadata": {},
   "source": [
    "The Grüneisen parameter workflow will perform 3 different phonon runs at 3 different volumes at and around the equilibrium to compute the mode Grüneisen values."
   ]
  },
  {
   "cell_type": "code",
   "execution_count": null,
   "id": "9",
   "metadata": {},
   "outputs": [],
   "source": [
    "flow.draw_graph().show()"
   ]
  },
  {
   "cell_type": "markdown",
   "id": "10",
   "metadata": {},
   "source": [
    "We now run the flow with  `run_locally`. We mock the run here. Normally, you would simply use `run_locally` without the `with mock_vasp`"
   ]
  },
  {
   "cell_type": "code",
   "execution_count": null,
   "id": "11",
   "metadata": {
    "jupyter": {
     "is_executing": true
    }
   },
   "outputs": [],
   "source": [
    "with mock_vasp(ref_paths=ref_paths) as mf:\n",
    "    run_locally(\n",
    "        flow,\n",
    "        create_folders=True,\n",
    "        ensure_success=True,\n",
    "        raise_immediately=True,\n",
    "        store=job_store,\n",
    "    )"
   ]
  },
  {
   "cell_type": "code",
   "execution_count": null,
   "id": "12",
   "metadata": {},
   "outputs": [],
   "source": [
    "job_store.connect()\n",
    "\n",
    "result = job_store.query_one(\n",
    "    {\"name\": \"compute_gruneisen_param\"},\n",
    "    properties=[\n",
    "        \"output.gruneisen_band_structure\",\n",
    "        \"output.gruneisen_parameter\",\n",
    "    ],\n",
    "    load=True,\n",
    "    sort={\"completed_at\": -1},  # to get the latest computation\n",
    ")"
   ]
  },
  {
   "cell_type": "code",
   "execution_count": null,
   "id": "13",
   "metadata": {},
   "outputs": [],
   "source": [
    "from pymatgen.phonon.gruneisen import GruneisenPhononBandStructureSymmLine\n",
    "from pymatgen.phonon.plotter import GruneisenPhononBSPlotter\n",
    "\n",
    "bs = GruneisenPhononBandStructureSymmLine.from_dict(\n",
    "    result[\"output\"][\"gruneisen_band_structure\"]\n",
    ")\n",
    "plt = GruneisenPhononBSPlotter(bs=bs)\n",
    "plt.get_plot(ylim=[-2, 2])"
   ]
  }
 ],
 "metadata": {
  "language_info": {
   "codemirror_mode": {
    "name": "ipython",
    "version": 2
   },
   "file_extension": ".py",
   "mimetype": "text/x-python",
   "name": "python",
   "nbconvert_exporter": "python",
   "pygments_lexer": "ipython2",
   "version": "2.7.6"
  }
 },
 "nbformat": 4,
 "nbformat_minor": 5
}
