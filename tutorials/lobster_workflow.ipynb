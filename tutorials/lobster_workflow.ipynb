{
 "cells": [
  {
   "metadata": {},
   "cell_type": "raw",
   "source": "The first lines are needed to ensure that we can mock VASP and LOBSTER runs.",
   "id": "709fcbd6cc50b3a6"
  },
  {
   "metadata": {
    "collapsed": true,
    "ExecuteTime": {
     "end_time": "2025-02-10T14:41:58.803952Z",
     "start_time": "2025-02-10T14:41:55.187930Z"
    }
   },
   "cell_type": "code",
   "source": [
    "from mock_vasp import mock_vasp, TEST_DIR\n",
    "from mock_lobster import mock_lobster\n",
    "\n",
    "\n",
    "ref_paths = {\n",
    "        \"relax 1\": \"Si_lobster_uniform/relax_1\",\n",
    "        \"relax 2\": \"Si_lobster_uniform/relax_2\",\n",
    "        \"static\": \"Si_lobster_uniform/static\",\n",
    "        \"non-scf uniform\": \"Si_lobster_uniform/non-scf_uniform\",\n",
    "    }\n",
    "ref_paths_lobster = {\n",
    "        \"lobster_run_0\": \"Si_lobster/lobster_0\",\n",
    "    }"
   ],
   "id": "initial_id",
   "outputs": [
    {
     "name": "stderr",
     "output_type": "stream",
     "text": [
      "/home/jgeorge/miniconda3/envs/2025_Update_atomate2_doc/lib/python3.11/site-packages/tqdm/auto.py:21: TqdmWarning: IProgress not found. Please update jupyter and ipywidgets. See https://ipywidgets.readthedocs.io/en/stable/user_install.html\n",
      "  from .autonotebook import tqdm as notebook_tqdm\n"
     ]
    }
   ],
   "execution_count": 1
  },
  {
   "metadata": {},
   "cell_type": "markdown",
   "source": "We first load a structure that we want to analyze with bonding analysis.",
   "id": "87fa2e22363a6b0d"
  },
  {
   "metadata": {
    "ExecuteTime": {
     "end_time": "2025-02-10T14:41:59.020661Z",
     "start_time": "2025-02-10T14:41:58.807606Z"
    }
   },
   "cell_type": "code",
   "source": [
    "from jobflow import JobStore, run_locally\n",
    "from maggma.stores import MemoryStore\n",
    "from pymatgen.core import Structure\n",
    "\n",
    "from atomate2.vasp.flows.lobster import VaspLobsterMaker, LobsterMaker\n",
    "from atomate2.vasp.powerups import update_user_incar_settings\n",
    "\n",
    "job_store = JobStore(MemoryStore(), additional_stores={\"data\": MemoryStore()})\n",
    "si_structure = Structure.from_file(TEST_DIR / \"structures\" / \"Si.cif\")"
   ],
   "id": "edefa4c433c5fed1",
   "outputs": [],
   "execution_count": 2
  },
  {
   "metadata": {},
   "cell_type": "markdown",
   "source": "Then, we initialize a workflow:",
   "id": "168042f064c6aaa8"
  },
  {
   "metadata": {
    "ExecuteTime": {
     "end_time": "2025-02-10T14:41:59.247945Z",
     "start_time": "2025-02-10T14:41:59.064896Z"
    }
   },
   "cell_type": "code",
   "source": [
    "job = VaspLobsterMaker(LobsterMaker(\n",
    "            task_document_kwargs={\n",
    "                \"analyze_outputs\": False\n",
    "            },\n",
    "            user_lobsterin_settings={\n",
    "                \"COHPstartEnergy\": -5.0,\n",
    "                \"COHPEndEnergy\": 5.0,\n",
    "                \"cohpGenerator\": \"from 0.1 to 3.0 orbitalwise\",\n",
    "            },\n",
    "        ),\n",
    "        delete_wavecars=True,\n",
    "    ).make(si_structure)\n",
    "job = update_user_incar_settings(job, {\"NPAR\": 4})\n",
    "\n",
    "# run the flow or job and ensure that it finished running successfully\n",
    "\n"
   ],
   "id": "423ed97c01c1eb4a",
   "outputs": [],
   "execution_count": 3
  },
  {
   "metadata": {},
   "cell_type": "markdown",
   "source": "We then run this workflow locally to show-case the capabilities. In real-life, you would omit the `mock*` parts.",
   "id": "59e2c8121196a5a0"
  },
  {
   "metadata": {
    "ExecuteTime": {
     "end_time": "2025-02-10T14:42:02.930099Z",
     "start_time": "2025-02-10T14:41:59.254350Z"
    }
   },
   "cell_type": "code",
   "source": [
    "with mock_vasp(ref_paths) as mf:\n",
    "    with mock_lobster(ref_paths_lobster) as mf2:\n",
    "        responses = run_locally(\n",
    "        job, store=job_store, create_folders=True, ensure_success=True)"
   ],
   "id": "81ea06138ad6e7dc",
   "outputs": [
    {
     "name": "stdout",
     "output_type": "stream",
     "text": [
      "2025-02-10 15:41:59,267 INFO Started executing jobs locally\n",
      "2025-02-10 15:41:59,276 INFO Starting job - relax 1 (5514118e-8ab4-4ce2-b425-6e9f80df4852)\n",
      "2025-02-10 15:41:59,461 INFO Finished job - relax 1 (5514118e-8ab4-4ce2-b425-6e9f80df4852)\n",
      "2025-02-10 15:41:59,462 WARNING Response.stored_data is not supported with local manager.\n",
      "2025-02-10 15:41:59,463 INFO Starting job - relax 2 (a2305a3b-d986-4e3b-98f8-6a04d8a3c3ef)\n"
     ]
    },
    {
     "name": "stderr",
     "output_type": "stream",
     "text": [
      "/home/jgeorge/miniconda3/envs/2025_Update_atomate2_doc/lib/python3.11/site-packages/pymatgen/io/vasp/outputs.py:1219: UserWarning: No POTCAR file with matching TITEL fields was found in\n",
      "\n",
      "  warnings.warn(\"No POTCAR file with matching TITEL fields was found in\\n\" + \"\\n  \".join(potcar_paths))\n",
      "/smb/jgeorge/hpc-user/PycharmProjects/2025_Update_atomate2_doc/atomate2/src/atomate2/common/files.py:268: UserWarning: /tmp/tmpl5qlnwgk/job_2025-02-10-14-41-59-463299-39059/POTCAR.spec is not gzipped, skipping...\n",
      "  file_client.gunzip(directory / file, host=host, force=force)\n"
     ]
    },
    {
     "name": "stdout",
     "output_type": "stream",
     "text": [
      "2025-02-10 15:41:59,708 INFO Finished job - relax 2 (a2305a3b-d986-4e3b-98f8-6a04d8a3c3ef)\n",
      "2025-02-10 15:41:59,709 WARNING Response.stored_data is not supported with local manager.\n",
      "2025-02-10 15:41:59,710 INFO Starting job - get_basis_infos (004fbffb-c50b-4e3d-abfa-e1dd1a5c9b92)\n",
      "2025-02-10 15:41:59,759 INFO Finished job - get_basis_infos (004fbffb-c50b-4e3d-abfa-e1dd1a5c9b92)\n",
      "2025-02-10 15:41:59,759 INFO Starting job - update_user_incar_settings_maker (d0be51c6-b23a-45cc-ae99-08879eeb30ec)\n",
      "2025-02-10 15:41:59,898 INFO Finished job - update_user_incar_settings_maker (d0be51c6-b23a-45cc-ae99-08879eeb30ec)\n",
      "2025-02-10 15:41:59,900 INFO Starting job - static (fd86b2d0-7261-4438-a4ec-d1d3cfef55df)\n",
      "2025-02-10 15:42:00,126 INFO Finished job - static (fd86b2d0-7261-4438-a4ec-d1d3cfef55df)\n",
      "2025-02-10 15:42:00,127 WARNING Response.stored_data is not supported with local manager.\n",
      "2025-02-10 15:42:00,128 INFO Starting job - non-scf uniform (4341f72c-7c4c-4648-ae45-04177b4e02f0)\n"
     ]
    },
    {
     "name": "stderr",
     "output_type": "stream",
     "text": [
      "/smb/jgeorge/hpc-user/PycharmProjects/2025_Update_atomate2_doc/atomate2/src/atomate2/common/files.py:268: UserWarning: /tmp/tmpl5qlnwgk/job_2025-02-10-14-41-59-900399-76176/POTCAR.spec is not gzipped, skipping...\n",
      "  file_client.gunzip(directory / file, host=host, force=force)\n",
      "/smb/jgeorge/hpc-user/PycharmProjects/2025_Update_atomate2_doc/atomate2/src/atomate2/common/files.py:268: UserWarning: /tmp/tmpl5qlnwgk/job_2025-02-10-14-42-00-128422-46501/POTCAR.spec is not gzipped, skipping...\n",
      "  file_client.gunzip(directory / file, host=host, force=force)\n"
     ]
    },
    {
     "name": "stdout",
     "output_type": "stream",
     "text": [
      "2025-02-10 15:42:00,855 INFO Finished job - non-scf uniform (4341f72c-7c4c-4648-ae45-04177b4e02f0)\n",
      "2025-02-10 15:42:00,856 WARNING Response.stored_data is not supported with local manager.\n",
      "2025-02-10 15:42:00,857 INFO Starting job - store_inputs (d0be51c6-b23a-45cc-ae99-08879eeb30ec, 2)\n",
      "2025-02-10 15:42:00,858 INFO Finished job - store_inputs (d0be51c6-b23a-45cc-ae99-08879eeb30ec, 2)\n",
      "2025-02-10 15:42:00,859 INFO Starting job - get_lobster_jobs (8dc8329e-1ac3-4c54-b31c-ba4a0aab13db)\n",
      "2025-02-10 15:42:00,900 INFO Finished job - get_lobster_jobs (8dc8329e-1ac3-4c54-b31c-ba4a0aab13db)\n",
      "2025-02-10 15:42:00,901 INFO Starting job - lobster_run_0 (5116b80d-e10d-4e8c-82d3-48b19fef0b8e)\n"
     ]
    },
    {
     "name": "stderr",
     "output_type": "stream",
     "text": [
      "/home/jgeorge/miniconda3/envs/2025_Update_atomate2_doc/lib/python3.11/site-packages/pymatgen/io/lobster/inputs.py:699: UserWarning: Always check and test the provided basis functions. The spilling of your Lobster calculation might help\n",
      "  warnings.warn(\n",
      "/home/jgeorge/miniconda3/envs/2025_Update_atomate2_doc/lib/python3.11/site-packages/spglib/spglib.py:115: DeprecationWarning: dict interface (SpglibDataset['equivalent_atoms']) is deprecated.Use attribute interface ({self.__class__.__name__}.{key}) instead\n",
      "  warnings.warn(\n",
      "/home/jgeorge/miniconda3/envs/2025_Update_atomate2_doc/lib/python3.11/site-packages/spglib/spglib.py:115: DeprecationWarning: dict interface (SpglibDataset['international']) is deprecated.Use attribute interface ({self.__class__.__name__}.{key}) instead\n",
      "  warnings.warn(\n",
      "/home/jgeorge/miniconda3/envs/2025_Update_atomate2_doc/lib/python3.11/site-packages/lobsterpy/cohp/analyze.py:870: UserWarning: The bonding, antibonding integral/percent values are numerical estimate. These values are sensitive to COHPstartEnergy parameter. If COHPstartEnergy value does not cover entire range of VASP calculations then absolute value of ICOHP_sum might not be equivalent to (bonding- antibonding) integral values.\n",
      "  ) = self._integrate_antbdstates_below_efermi(cohp, start=self.start)\n",
      "/home/jgeorge/miniconda3/envs/2025_Update_atomate2_doc/lib/python3.11/site-packages/spglib/spglib.py:115: DeprecationWarning: dict interface (SpglibDataset['equivalent_atoms']) is deprecated.Use attribute interface ({self.__class__.__name__}.{key}) instead\n",
      "  warnings.warn(\n",
      "/home/jgeorge/miniconda3/envs/2025_Update_atomate2_doc/lib/python3.11/site-packages/spglib/spglib.py:115: DeprecationWarning: dict interface (SpglibDataset['international']) is deprecated.Use attribute interface ({self.__class__.__name__}.{key}) instead\n",
      "  warnings.warn(\n"
     ]
    },
    {
     "name": "stdout",
     "output_type": "stream",
     "text": [
      "2025-02-10 15:42:02,296 INFO lobster_run_0 failed with exception:\n",
      "Traceback (most recent call last):\n",
      "  File \"/home/jgeorge/miniconda3/envs/2025_Update_atomate2_doc/lib/python3.11/site-packages/jobflow/managers/local.py\", line 117, in _run_job\n",
      "    response = job.run(store=store)\n",
      "               ^^^^^^^^^^^^^^^^^^^^\n",
      "  File \"/home/jgeorge/miniconda3/envs/2025_Update_atomate2_doc/lib/python3.11/site-packages/jobflow/core/job.py\", line 604, in run\n",
      "    response = function(*self.function_args, **self.function_kwargs)\n",
      "               ^^^^^^^^^^^^^^^^^^^^^^^^^^^^^^^^^^^^^^^^^^^^^^^^^^^^^\n",
      "  File \"/smb/jgeorge/hpc-user/PycharmProjects/2025_Update_atomate2_doc/atomate2/src/atomate2/lobster/jobs.py\", line 110, in make\n",
      "    return LobsterTaskDocument.from_directory(\n",
      "           ^^^^^^^^^^^^^^^^^^^^^^^^^^^^^^^^^^^\n",
      "  File \"/home/jgeorge/miniconda3/envs/2025_Update_atomate2_doc/lib/python3.11/site-packages/monty/dev.py\", line 216, in decorated\n",
      "    return _callable(*args, **kwargs)\n",
      "           ^^^^^^^^^^^^^^^^^^^^^^^^^^\n",
      "  File \"/smb/jgeorge/hpc-user/PycharmProjects/2025_Update_atomate2_doc/atomate2/src/atomate2/lobster/schemas.py\", line 877, in from_directory\n",
      "    calc_quality_summary = CalcQualitySummary.from_directory(\n",
      "                           ^^^^^^^^^^^^^^^^^^^^^^^^^^^^^^^^^^\n",
      "  File \"/home/jgeorge/miniconda3/envs/2025_Update_atomate2_doc/lib/python3.11/site-packages/monty/dev.py\", line 216, in decorated\n",
      "    return _callable(*args, **kwargs)\n",
      "           ^^^^^^^^^^^^^^^^^^^^^^^^^^\n",
      "  File \"/smb/jgeorge/hpc-user/PycharmProjects/2025_Update_atomate2_doc/atomate2/src/atomate2/lobster/schemas.py\", line 600, in from_directory\n",
      "    cal_quality_dict = Analysis.get_lobster_calc_quality_summary(\n",
      "                       ^^^^^^^^^^^^^^^^^^^^^^^^^^^^^^^^^^^^^^^^^^\n",
      "  File \"/home/jgeorge/miniconda3/envs/2025_Update_atomate2_doc/lib/python3.11/site-packages/lobsterpy/cohp/analyze.py\", line 1707, in get_lobster_calc_quality_summary\n",
      "    dos_vasp.get_dos_fp_similarity(fp_lobster_orb, fp_vasp_orb, metric=\"tanimoto\"),\n",
      "    ^^^^^^^^^^^^^^^^^^^^^^^^^^^^^^^^^^^^^^^^^^^^^^^^^^^^^^^^^^^^^^^^^^^^^^^^^^^^^^\n",
      "  File \"/home/jgeorge/miniconda3/envs/2025_Update_atomate2_doc/lib/python3.11/site-packages/pymatgen/electronic_structure/dos.py\", line 1374, in get_dos_fp_similarity\n",
      "    rescale = np.linalg.norm(vec1) ** 2 + np.linalg.norm(vec2) ** 2 - np.dot(vec1, vec2)\n",
      "                                                                      ^^^^^^^^^^^^^^^^^^\n",
      "ValueError: shapes (2,) and (256,) not aligned: 2 (dim 0) != 256 (dim 0)\n",
      "\n",
      "2025-02-10 15:42:02,298 INFO Starting job - store_inputs (8dc8329e-1ac3-4c54-b31c-ba4a0aab13db, 2)\n",
      "2025-02-10 15:42:02,300 INFO Finished job - store_inputs (8dc8329e-1ac3-4c54-b31c-ba4a0aab13db, 2)\n",
      "2025-02-10 15:42:02,301 INFO Starting job - delete_lobster_wavecar (ab8990d8-1d35-40f3-bc5e-903edeccabc5)\n",
      "2025-02-10 15:42:02,303 INFO delete_lobster_wavecar failed with exception:\n",
      "Traceback (most recent call last):\n",
      "  File \"/home/jgeorge/miniconda3/envs/2025_Update_atomate2_doc/lib/python3.11/site-packages/jobflow/managers/local.py\", line 117, in _run_job\n",
      "    response = job.run(store=store)\n",
      "               ^^^^^^^^^^^^^^^^^^^^\n",
      "  File \"/home/jgeorge/miniconda3/envs/2025_Update_atomate2_doc/lib/python3.11/site-packages/jobflow/core/job.py\", line 593, in run\n",
      "    self.resolve_args(store=store)\n",
      "  File \"/home/jgeorge/miniconda3/envs/2025_Update_atomate2_doc/lib/python3.11/site-packages/jobflow/core/job.py\", line 709, in resolve_args\n",
      "    resolved_kwargs = find_and_resolve_references(\n",
      "                      ^^^^^^^^^^^^^^^^^^^^^^^^^^^^\n",
      "  File \"/home/jgeorge/miniconda3/envs/2025_Update_atomate2_doc/lib/python3.11/site-packages/jobflow/core/reference.py\", line 473, in find_and_resolve_references\n",
      "    resolved_references = resolve_references(\n",
      "                          ^^^^^^^^^^^^^^^^^^^\n",
      "  File \"/home/jgeorge/miniconda3/envs/2025_Update_atomate2_doc/lib/python3.11/site-packages/jobflow/core/reference.py\", line 356, in resolve_references\n",
      "    cache[uuid][index] = store.get_output(\n",
      "                         ^^^^^^^^^^^^^^^^^\n",
      "  File \"/home/jgeorge/miniconda3/envs/2025_Update_atomate2_doc/lib/python3.11/site-packages/jobflow/core/store.py\", line 523, in get_output\n",
      "    return find_and_resolve_references(\n",
      "           ^^^^^^^^^^^^^^^^^^^^^^^^^^^^\n",
      "  File \"/home/jgeorge/miniconda3/envs/2025_Update_atomate2_doc/lib/python3.11/site-packages/jobflow/core/reference.py\", line 473, in find_and_resolve_references\n",
      "    resolved_references = resolve_references(\n",
      "                          ^^^^^^^^^^^^^^^^^^^\n",
      "  File \"/home/jgeorge/miniconda3/envs/2025_Update_atomate2_doc/lib/python3.11/site-packages/jobflow/core/reference.py\", line 361, in resolve_references\n",
      "    resolved_references[ref] = ref.resolve(\n",
      "                               ^^^^^^^^^^^^\n",
      "  File \"/home/jgeorge/miniconda3/envs/2025_Update_atomate2_doc/lib/python3.11/site-packages/jobflow/core/reference.py\", line 166, in resolve\n",
      "    raise ValueError(\n",
      "ValueError: Could not resolve reference - 5116b80d-e10d-4e8c-82d3-48b19fef0b8e not in store or index=None, cache={'5116b80d-e10d-4e8c-82d3-48b19fef0b8e': {}}\n",
      "\n"
     ]
    },
    {
     "name": "stderr",
     "output_type": "stream",
     "text": [
      "/smb/jgeorge/hpc-user/PycharmProjects/2025_Update_atomate2_doc/atomate2/src/atomate2/lobster/schemas.py:600: UserWarning: Oxidation states from BVA analyzer cannot be determined. Thus BVA charge comparison will be skipped\n",
      "  cal_quality_dict = Analysis.get_lobster_calc_quality_summary(\n",
      "/smb/jgeorge/hpc-user/PycharmProjects/2025_Update_atomate2_doc/atomate2/src/atomate2/lobster/schemas.py:600: UserWarning: Consider using DOSCAR.LSO.lobster, as non LSO DOS from LOBSTER can have negative DOS values\n",
      "  cal_quality_dict = Analysis.get_lobster_calc_quality_summary(\n",
      "/smb/jgeorge/hpc-user/PycharmProjects/2025_Update_atomate2_doc/atomate2/src/atomate2/lobster/schemas.py:600: UserWarning: Minimum energy range requested for DOS comparisons is not available in VASP or LOBSTER calculation. Thus, setting min_e to -5 eV\n",
      "  cal_quality_dict = Analysis.get_lobster_calc_quality_summary(\n"
     ]
    },
    {
     "name": "stdout",
     "output_type": "stream",
     "text": [
      "2025-02-10 15:42:02,304 INFO Finished executing jobs locally\n"
     ]
    },
    {
     "ename": "RuntimeError",
     "evalue": "Flow did not finish running successfully",
     "output_type": "error",
     "traceback": [
      "\u001B[0;31m---------------------------------------------------------------------------\u001B[0m",
      "\u001B[0;31mRuntimeError\u001B[0m                              Traceback (most recent call last)",
      "Cell \u001B[0;32mIn[4], line 3\u001B[0m\n\u001B[1;32m      1\u001B[0m \u001B[38;5;28;01mwith\u001B[39;00m mock_vasp(ref_paths) \u001B[38;5;28;01mas\u001B[39;00m mf:\n\u001B[1;32m      2\u001B[0m     \u001B[38;5;28;01mwith\u001B[39;00m mock_lobster(ref_paths_lobster) \u001B[38;5;28;01mas\u001B[39;00m mf2:\n\u001B[0;32m----> 3\u001B[0m         responses \u001B[38;5;241m=\u001B[39m run_locally(\n\u001B[1;32m      4\u001B[0m         job, store\u001B[38;5;241m=\u001B[39mjob_store, create_folders\u001B[38;5;241m=\u001B[39m\u001B[38;5;28;01mTrue\u001B[39;00m, ensure_success\u001B[38;5;241m=\u001B[39m\u001B[38;5;28;01mTrue\u001B[39;00m)\n",
      "File \u001B[0;32m~/miniconda3/envs/2025_Update_atomate2_doc/lib/python3.11/site-packages/jobflow/managers/local.py:184\u001B[0m, in \u001B[0;36mrun_locally\u001B[0;34m(flow, log, store, create_folders, root_dir, ensure_success, allow_external_references, raise_immediately)\u001B[0m\n\u001B[1;32m    181\u001B[0m logger\u001B[38;5;241m.\u001B[39minfo(\u001B[38;5;124m\"\u001B[39m\u001B[38;5;124mFinished executing jobs locally\u001B[39m\u001B[38;5;124m\"\u001B[39m)\n\u001B[1;32m    183\u001B[0m \u001B[38;5;28;01mif\u001B[39;00m ensure_success \u001B[38;5;129;01mand\u001B[39;00m \u001B[38;5;129;01mnot\u001B[39;00m finished_successfully:\n\u001B[0;32m--> 184\u001B[0m     \u001B[38;5;28;01mraise\u001B[39;00m \u001B[38;5;167;01mRuntimeError\u001B[39;00m(\u001B[38;5;124m\"\u001B[39m\u001B[38;5;124mFlow did not finish running successfully\u001B[39m\u001B[38;5;124m\"\u001B[39m)\n\u001B[1;32m    186\u001B[0m \u001B[38;5;28;01mreturn\u001B[39;00m \u001B[38;5;28mdict\u001B[39m(responses)\n",
      "\u001B[0;31mRuntimeError\u001B[0m: Flow did not finish running successfully"
     ]
    }
   ],
   "execution_count": 4
  },
  {
   "metadata": {},
   "cell_type": "code",
   "source": "",
   "id": "96f7ec288b224e17",
   "outputs": [],
   "execution_count": null
  },
  {
   "metadata": {},
   "cell_type": "code",
   "source": "",
   "id": "b9975aba14ceaf39",
   "outputs": [],
   "execution_count": null
  }
 ],
 "metadata": {
  "kernelspec": {
   "display_name": "Python 3",
   "language": "python",
   "name": "python3"
  },
  "language_info": {
   "codemirror_mode": {
    "name": "ipython",
    "version": 2
   },
   "file_extension": ".py",
   "mimetype": "text/x-python",
   "name": "python",
   "nbconvert_exporter": "python",
   "pygments_lexer": "ipython2",
   "version": "2.7.6"
  }
 },
 "nbformat": 4,
 "nbformat_minor": 5
}
