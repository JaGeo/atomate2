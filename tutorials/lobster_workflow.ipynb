{
 "cells": [
  {
   "metadata": {},
   "cell_type": "raw",
   "source": "The first lines are needed to ensure that we can mock VASP and LOBSTER runs.",
   "id": "709fcbd6cc50b3a6"
  },
  {
   "metadata": {
    "collapsed": true,
    "ExecuteTime": {
     "end_time": "2025-02-10T16:23:35.273002Z",
     "start_time": "2025-02-10T16:23:31.749277Z"
    }
   },
   "cell_type": "code",
   "source": [
    "from mock_vasp import mock_vasp, TEST_DIR\n",
    "from mock_lobster import mock_lobster\n",
    "\n",
    "\n",
    "ref_paths = {\n",
    "        \"relax 1\": \"Si_lobster_uniform/relax_1\",\n",
    "        \"relax 2\": \"Si_lobster_uniform/relax_2\",\n",
    "        \"static\": \"Si_lobster_uniform/static\",\n",
    "        \"non-scf uniform\": \"Si_lobster_uniform/non-scf_uniform\",\n",
    "    }\n",
    "ref_paths_lobster = {\n",
    "        \"lobster_run_0\": \"Si_lobster/lobster_0\",\n",
    "    }"
   ],
   "id": "initial_id",
   "outputs": [
    {
     "name": "stderr",
     "output_type": "stream",
     "text": [
      "/home/jgeorge/miniconda3/envs/2025_Update_atomate2_doc/lib/python3.11/site-packages/tqdm/auto.py:21: TqdmWarning: IProgress not found. Please update jupyter and ipywidgets. See https://ipywidgets.readthedocs.io/en/stable/user_install.html\n",
      "  from .autonotebook import tqdm as notebook_tqdm\n"
     ]
    }
   ],
   "execution_count": 1
  },
  {
   "metadata": {},
   "cell_type": "markdown",
   "source": "We first load a structure that we want to analyze with bonding analysis.",
   "id": "87fa2e22363a6b0d"
  },
  {
   "metadata": {
    "ExecuteTime": {
     "end_time": "2025-02-10T16:23:35.505765Z",
     "start_time": "2025-02-10T16:23:35.277556Z"
    }
   },
   "cell_type": "code",
   "source": [
    "from jobflow import JobStore, run_locally\n",
    "from maggma.stores import MemoryStore\n",
    "from pymatgen.core import Structure\n",
    "\n",
    "from atomate2.vasp.flows.lobster import VaspLobsterMaker, LobsterMaker\n",
    "from atomate2.vasp.powerups import update_user_incar_settings\n",
    "\n",
    "job_store = JobStore(MemoryStore(), additional_stores={\"data\": MemoryStore()})\n",
    "si_structure = Structure.from_file(TEST_DIR / \"structures\" / \"Si.cif\")"
   ],
   "id": "edefa4c433c5fed1",
   "outputs": [],
   "execution_count": 2
  },
  {
   "metadata": {},
   "cell_type": "markdown",
   "source": "Then, we initialize a workflow:",
   "id": "168042f064c6aaa8"
  },
  {
   "metadata": {
    "ExecuteTime": {
     "end_time": "2025-02-10T16:23:35.796368Z",
     "start_time": "2025-02-10T16:23:35.619909Z"
    }
   },
   "cell_type": "code",
   "source": [
    "job = VaspLobsterMaker(lobster_maker=LobsterMaker(\n",
    "                task_document_kwargs={\n",
    "                \"calc_quality_kwargs\": {\"potcar_symbols\": [\"Si\"], \"n_bins\": 10},\n",
    "                \"add_coxxcar_to_task_document\": True,\n",
    "            },\n",
    "            user_lobsterin_settings={\n",
    "                \"COHPstartEnergy\": -5.0,\n",
    "                \"COHPEndEnergy\": 5.0,\n",
    "                \"cohpGenerator\": \"from 0.1 to 3.0 orbitalwise\",\n",
    "            },\n",
    "        ),\n",
    "        delete_wavecars=True,\n",
    "    ).make(si_structure)\n",
    "job = update_user_incar_settings(job, {\"NPAR\": 4})\n",
    "\n",
    "# run the flow or job and ensure that it finished running successfully\n",
    "\n"
   ],
   "id": "423ed97c01c1eb4a",
   "outputs": [],
   "execution_count": 3
  },
  {
   "metadata": {},
   "cell_type": "markdown",
   "source": "We then run this workflow locally to show-case the capabilities. In real-life, you would omit the `mock*` parts.",
   "id": "59e2c8121196a5a0"
  },
  {
   "metadata": {
    "ExecuteTime": {
     "end_time": "2025-02-10T16:23:41.141393Z",
     "start_time": "2025-02-10T16:23:35.803301Z"
    }
   },
   "cell_type": "code",
   "source": [
    "with mock_vasp(ref_paths) as mf:\n",
    "    with mock_lobster(ref_paths_lobster) as mf2:\n",
    "        responses = run_locally(\n",
    "        job, store=job_store, create_folders=True, ensure_success=True)"
   ],
   "id": "81ea06138ad6e7dc",
   "outputs": [
    {
     "name": "stdout",
     "output_type": "stream",
     "text": [
      "2025-02-10 17:23:35,816 INFO Started executing jobs locally\n",
      "2025-02-10 17:23:35,824 INFO Starting job - relax 1 (cf0e7b23-c5f8-4ac3-8a2d-4762f2cf5e38)\n",
      "2025-02-10 17:23:36,015 INFO Finished job - relax 1 (cf0e7b23-c5f8-4ac3-8a2d-4762f2cf5e38)\n",
      "2025-02-10 17:23:36,015 WARNING Response.stored_data is not supported with local manager.\n",
      "2025-02-10 17:23:36,016 INFO Starting job - relax 2 (b8a483e9-ea94-4b3a-9e35-6d54310ccd0f)\n"
     ]
    },
    {
     "name": "stderr",
     "output_type": "stream",
     "text": [
      "/home/jgeorge/miniconda3/envs/2025_Update_atomate2_doc/lib/python3.11/site-packages/pymatgen/io/vasp/outputs.py:1219: UserWarning: No POTCAR file with matching TITEL fields was found in\n",
      "\n",
      "  warnings.warn(\"No POTCAR file with matching TITEL fields was found in\\n\" + \"\\n  \".join(potcar_paths))\n",
      "/smb/jgeorge/hpc-user/PycharmProjects/2025_Update_atomate2_doc/atomate2/src/atomate2/common/files.py:268: UserWarning: /tmp/tmpdzzrblpr/job_2025-02-10-16-23-36-016113-19978/POTCAR.spec is not gzipped, skipping...\n",
      "  file_client.gunzip(directory / file, host=host, force=force)\n"
     ]
    },
    {
     "name": "stdout",
     "output_type": "stream",
     "text": [
      "2025-02-10 17:23:36,276 INFO Finished job - relax 2 (b8a483e9-ea94-4b3a-9e35-6d54310ccd0f)\n",
      "2025-02-10 17:23:36,277 WARNING Response.stored_data is not supported with local manager.\n",
      "2025-02-10 17:23:36,277 INFO Starting job - get_basis_infos (9ca5ae0e-5139-4396-8578-432628fe0efe)\n",
      "2025-02-10 17:23:36,327 INFO Finished job - get_basis_infos (9ca5ae0e-5139-4396-8578-432628fe0efe)\n",
      "2025-02-10 17:23:36,328 INFO Starting job - update_user_incar_settings_maker (28e68e55-6a8f-495c-a21e-915c4f257a52)\n",
      "2025-02-10 17:23:36,469 INFO Finished job - update_user_incar_settings_maker (28e68e55-6a8f-495c-a21e-915c4f257a52)\n",
      "2025-02-10 17:23:36,471 INFO Starting job - static (50c6b38c-3d3b-48e5-ab9f-41d0d2e50487)\n"
     ]
    },
    {
     "name": "stderr",
     "output_type": "stream",
     "text": [
      "/smb/jgeorge/hpc-user/PycharmProjects/2025_Update_atomate2_doc/atomate2/src/atomate2/common/files.py:268: UserWarning: /tmp/tmpdzzrblpr/job_2025-02-10-16-23-36-471242-51151/POTCAR.spec is not gzipped, skipping...\n",
      "  file_client.gunzip(directory / file, host=host, force=force)\n"
     ]
    },
    {
     "name": "stdout",
     "output_type": "stream",
     "text": [
      "2025-02-10 17:23:36,711 INFO Finished job - static (50c6b38c-3d3b-48e5-ab9f-41d0d2e50487)\n",
      "2025-02-10 17:23:36,714 WARNING Response.stored_data is not supported with local manager.\n",
      "2025-02-10 17:23:36,715 INFO Starting job - non-scf uniform (3d72d6fa-880f-433d-afbe-b76fb5c669c5)\n"
     ]
    },
    {
     "name": "stderr",
     "output_type": "stream",
     "text": [
      "/smb/jgeorge/hpc-user/PycharmProjects/2025_Update_atomate2_doc/atomate2/src/atomate2/common/files.py:268: UserWarning: /tmp/tmpdzzrblpr/job_2025-02-10-16-23-36-715060-90187/POTCAR.spec is not gzipped, skipping...\n",
      "  file_client.gunzip(directory / file, host=host, force=force)\n"
     ]
    },
    {
     "name": "stdout",
     "output_type": "stream",
     "text": [
      "2025-02-10 17:23:37,457 INFO Finished job - non-scf uniform (3d72d6fa-880f-433d-afbe-b76fb5c669c5)\n",
      "2025-02-10 17:23:37,457 WARNING Response.stored_data is not supported with local manager.\n",
      "2025-02-10 17:23:37,458 INFO Starting job - store_inputs (28e68e55-6a8f-495c-a21e-915c4f257a52, 2)\n",
      "2025-02-10 17:23:37,459 INFO Finished job - store_inputs (28e68e55-6a8f-495c-a21e-915c4f257a52, 2)\n",
      "2025-02-10 17:23:37,459 INFO Starting job - get_lobster_jobs (588c1175-8b0b-4436-af11-2e4137f64a37)\n",
      "2025-02-10 17:23:37,498 INFO Finished job - get_lobster_jobs (588c1175-8b0b-4436-af11-2e4137f64a37)\n",
      "2025-02-10 17:23:37,500 INFO Starting job - lobster_run_0 (fd14a831-a6f6-4079-a6df-f3325e2480e6)\n",
      "{'calc_quality_kwargs': {'potcar_symbols': ['Si'], 'n_bins': 10}, 'add_coxxcar_to_task_document': True}\n",
      "True\n"
     ]
    },
    {
     "name": "stderr",
     "output_type": "stream",
     "text": [
      "/home/jgeorge/miniconda3/envs/2025_Update_atomate2_doc/lib/python3.11/site-packages/pymatgen/io/lobster/inputs.py:699: UserWarning: Always check and test the provided basis functions. The spilling of your Lobster calculation might help\n",
      "  warnings.warn(\n",
      "/home/jgeorge/miniconda3/envs/2025_Update_atomate2_doc/lib/python3.11/site-packages/spglib/spglib.py:115: DeprecationWarning: dict interface (SpglibDataset['equivalent_atoms']) is deprecated.Use attribute interface ({self.__class__.__name__}.{key}) instead\n",
      "  warnings.warn(\n",
      "/home/jgeorge/miniconda3/envs/2025_Update_atomate2_doc/lib/python3.11/site-packages/spglib/spglib.py:115: DeprecationWarning: dict interface (SpglibDataset['international']) is deprecated.Use attribute interface ({self.__class__.__name__}.{key}) instead\n",
      "  warnings.warn(\n",
      "/home/jgeorge/miniconda3/envs/2025_Update_atomate2_doc/lib/python3.11/site-packages/lobsterpy/cohp/analyze.py:870: UserWarning: The bonding, antibonding integral/percent values are numerical estimate. These values are sensitive to COHPstartEnergy parameter. If COHPstartEnergy value does not cover entire range of VASP calculations then absolute value of ICOHP_sum might not be equivalent to (bonding- antibonding) integral values.\n",
      "  ) = self._integrate_antbdstates_below_efermi(cohp, start=self.start)\n",
      "/home/jgeorge/miniconda3/envs/2025_Update_atomate2_doc/lib/python3.11/site-packages/spglib/spglib.py:115: DeprecationWarning: dict interface (SpglibDataset['equivalent_atoms']) is deprecated.Use attribute interface ({self.__class__.__name__}.{key}) instead\n",
      "  warnings.warn(\n",
      "/home/jgeorge/miniconda3/envs/2025_Update_atomate2_doc/lib/python3.11/site-packages/spglib/spglib.py:115: DeprecationWarning: dict interface (SpglibDataset['international']) is deprecated.Use attribute interface ({self.__class__.__name__}.{key}) instead\n",
      "  warnings.warn(\n"
     ]
    },
    {
     "name": "stdout",
     "output_type": "stream",
     "text": [
      "{'e_range': [-20, 0], 'dos_comparison': True, 'n_bins': 10, 'bva_comp': True, 'potcar_symbols': ['Si']}\n"
     ]
    },
    {
     "name": "stderr",
     "output_type": "stream",
     "text": [
      "/smb/jgeorge/hpc-user/PycharmProjects/2025_Update_atomate2_doc/atomate2/src/atomate2/lobster/schemas.py:601: UserWarning: Oxidation states from BVA analyzer cannot be determined. Thus BVA charge comparison will be skipped\n",
      "  cal_quality_dict = Analysis.get_lobster_calc_quality_summary(\n",
      "/smb/jgeorge/hpc-user/PycharmProjects/2025_Update_atomate2_doc/atomate2/src/atomate2/lobster/schemas.py:601: UserWarning: Consider using DOSCAR.LSO.lobster, as non LSO DOS from LOBSTER can have negative DOS values\n",
      "  cal_quality_dict = Analysis.get_lobster_calc_quality_summary(\n",
      "/smb/jgeorge/hpc-user/PycharmProjects/2025_Update_atomate2_doc/atomate2/src/atomate2/lobster/schemas.py:601: UserWarning: Minimum energy range requested for DOS comparisons is not available in VASP or LOBSTER calculation. Thus, setting min_e to -5 eV\n",
      "  cal_quality_dict = Analysis.get_lobster_calc_quality_summary(\n"
     ]
    },
    {
     "name": "stdout",
     "output_type": "stream",
     "text": [
      "2025-02-10 17:23:40,414 INFO Finished job - lobster_run_0 (fd14a831-a6f6-4079-a6df-f3325e2480e6)\n",
      "2025-02-10 17:23:40,416 INFO Starting job - store_inputs (588c1175-8b0b-4436-af11-2e4137f64a37, 2)\n",
      "2025-02-10 17:23:40,417 INFO Finished job - store_inputs (588c1175-8b0b-4436-af11-2e4137f64a37, 2)\n",
      "2025-02-10 17:23:40,418 INFO Starting job - delete_lobster_wavecar (d1fbf5bd-91e4-454b-af3a-21deff67d474)\n",
      "2025-02-10 17:23:41,137 INFO Finished job - delete_lobster_wavecar (d1fbf5bd-91e4-454b-af3a-21deff67d474)\n",
      "2025-02-10 17:23:41,137 INFO Finished executing jobs locally\n"
     ]
    }
   ],
   "execution_count": 4
  },
  {
   "metadata": {
    "ExecuteTime": {
     "end_time": "2025-02-10T16:23:41.153939Z",
     "start_time": "2025-02-10T16:23:41.152239Z"
    }
   },
   "cell_type": "code",
   "source": "",
   "id": "96f7ec288b224e17",
   "outputs": [],
   "execution_count": null
  },
  {
   "metadata": {
    "ExecuteTime": {
     "end_time": "2025-02-10T16:23:41.196023Z",
     "start_time": "2025-02-10T16:23:41.194191Z"
    }
   },
   "cell_type": "code",
   "source": "",
   "id": "b9975aba14ceaf39",
   "outputs": [],
   "execution_count": null
  }
 ],
 "metadata": {
  "kernelspec": {
   "display_name": "Python 3",
   "language": "python",
   "name": "python3"
  },
  "language_info": {
   "codemirror_mode": {
    "name": "ipython",
    "version": 2
   },
   "file_extension": ".py",
   "mimetype": "text/x-python",
   "name": "python",
   "nbconvert_exporter": "python",
   "pygments_lexer": "ipython2",
   "version": "2.7.6"
  }
 },
 "nbformat": 4,
 "nbformat_minor": 5
}
